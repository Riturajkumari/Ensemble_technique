{
  "nbformat": 4,
  "nbformat_minor": 0,
  "metadata": {
    "colab": {
      "provenance": [],
      "authorship_tag": "ABX9TyMc5YQDpAZx60lSeCYTXhEr",
      "include_colab_link": true
    },
    "kernelspec": {
      "name": "python3",
      "display_name": "Python 3"
    },
    "language_info": {
      "name": "python"
    }
  },
  "cells": [
    {
      "cell_type": "markdown",
      "metadata": {
        "id": "view-in-github",
        "colab_type": "text"
      },
      "source": [
        "<a href=\"https://colab.research.google.com/github/Riturajkumari/Ensemble_technique/blob/main/Boosting_Assignemnt2.ipynb\" target=\"_parent\"><img src=\"https://colab.research.google.com/assets/colab-badge.svg\" alt=\"Open In Colab\"/></a>"
      ]
    },
    {
      "cell_type": "markdown",
      "source": [
        "**Q1. What is Gradient Boosting Regression?**"
      ],
      "metadata": {
        "id": "vZRA5aEqMd-h"
      }
    },
    {
      "cell_type": "markdown",
      "source": [
        "Gradient Boosting Regression is a machine learning technique used in regression tasks.\n",
        "- It is an analytical technique that is designed to explore the relationship between two or more variables (X, and Y). Its analytical output identifies important factors (X i) impacting the dependent variable (y) and the nature of the relationship between each of these factors and the dependent .\n",
        "- It gives a prediction model in the form of an ensemble of weak prediction models, which are typically decision trees. When a decision tree is the weak learner, the resulting algorithm is called gradient-boosted trees; it usually outperforms random forest.\n",
        "- A gradient-boosted trees model is built in a stage-wise fashion as in other boosting methods, but it generalizes the other methods by allowing optimization of an arbitrary differentiable loss function.\n",
        "\n"
      ],
      "metadata": {
        "id": "hnV3wbgBNf-3"
      }
    },
    {
      "cell_type": "code",
      "source": [],
      "metadata": {
        "id": "vsKBFMWLMf-x"
      },
      "execution_count": null,
      "outputs": []
    },
    {
      "cell_type": "markdown",
      "source": [
        "**Q2. Implement a simple gradient boosting algorithm from scratch using Python and NumPy. Use a\n",
        "simple regression problem as an example and train the model on a small dataset. Evaluate the model's\n",
        "performance using metrics such as mean squared error and R-squared.**"
      ],
      "metadata": {
        "id": "Aq8An1KsMgJ0"
      }
    },
    {
      "cell_type": "code",
      "source": [
        "import pandas as pd\n",
        "\n",
        "import numpy as np\n",
        "\n",
        "from sklearn.metrics import classification_report\n",
        "\n",
        "from sklearn.datasets import load_breast_cancer\n",
        "\n",
        "from sklearn.ensemble import GradientBoostingClassifier\n",
        "\n",
        "from sklearn.model_selection import train_test_split"
      ],
      "metadata": {
        "id": "9D33hGbsMlKi"
      },
      "execution_count": 1,
      "outputs": []
    },
    {
      "cell_type": "code",
      "source": [
        "df = pd.DataFrame(load_breast_cancer()['data'],\n",
        "\n",
        "columns=load_breast_cancer()['feature_names'])\n",
        "\n",
        "df['y'] = load_breast_cancer()['target']\n",
        "\n",
        "df.head(5)"
      ],
      "metadata": {
        "colab": {
          "base_uri": "https://localhost:8080/",
          "height": 334
        },
        "id": "JbuRkKpcOWiE",
        "outputId": "ffb0a467-2874-44ef-bfe9-f1314c29f53d"
      },
      "execution_count": 2,
      "outputs": [
        {
          "output_type": "execute_result",
          "data": {
            "text/plain": [
              "   mean radius  mean texture  mean perimeter  mean area  mean smoothness  \\\n",
              "0        17.99         10.38          122.80     1001.0          0.11840   \n",
              "1        20.57         17.77          132.90     1326.0          0.08474   \n",
              "2        19.69         21.25          130.00     1203.0          0.10960   \n",
              "3        11.42         20.38           77.58      386.1          0.14250   \n",
              "4        20.29         14.34          135.10     1297.0          0.10030   \n",
              "\n",
              "   mean compactness  mean concavity  mean concave points  mean symmetry  \\\n",
              "0           0.27760          0.3001              0.14710         0.2419   \n",
              "1           0.07864          0.0869              0.07017         0.1812   \n",
              "2           0.15990          0.1974              0.12790         0.2069   \n",
              "3           0.28390          0.2414              0.10520         0.2597   \n",
              "4           0.13280          0.1980              0.10430         0.1809   \n",
              "\n",
              "   mean fractal dimension  ...  worst texture  worst perimeter  worst area  \\\n",
              "0                 0.07871  ...          17.33           184.60      2019.0   \n",
              "1                 0.05667  ...          23.41           158.80      1956.0   \n",
              "2                 0.05999  ...          25.53           152.50      1709.0   \n",
              "3                 0.09744  ...          26.50            98.87       567.7   \n",
              "4                 0.05883  ...          16.67           152.20      1575.0   \n",
              "\n",
              "   worst smoothness  worst compactness  worst concavity  worst concave points  \\\n",
              "0            0.1622             0.6656           0.7119                0.2654   \n",
              "1            0.1238             0.1866           0.2416                0.1860   \n",
              "2            0.1444             0.4245           0.4504                0.2430   \n",
              "3            0.2098             0.8663           0.6869                0.2575   \n",
              "4            0.1374             0.2050           0.4000                0.1625   \n",
              "\n",
              "   worst symmetry  worst fractal dimension  y  \n",
              "0          0.4601                  0.11890  0  \n",
              "1          0.2750                  0.08902  0  \n",
              "2          0.3613                  0.08758  0  \n",
              "3          0.6638                  0.17300  0  \n",
              "4          0.2364                  0.07678  0  \n",
              "\n",
              "[5 rows x 31 columns]"
            ],
            "text/html": [
              "\n",
              "  <div id=\"df-d0b5b085-a518-45ce-bdab-a6705ae87f81\">\n",
              "    <div class=\"colab-df-container\">\n",
              "      <div>\n",
              "<style scoped>\n",
              "    .dataframe tbody tr th:only-of-type {\n",
              "        vertical-align: middle;\n",
              "    }\n",
              "\n",
              "    .dataframe tbody tr th {\n",
              "        vertical-align: top;\n",
              "    }\n",
              "\n",
              "    .dataframe thead th {\n",
              "        text-align: right;\n",
              "    }\n",
              "</style>\n",
              "<table border=\"1\" class=\"dataframe\">\n",
              "  <thead>\n",
              "    <tr style=\"text-align: right;\">\n",
              "      <th></th>\n",
              "      <th>mean radius</th>\n",
              "      <th>mean texture</th>\n",
              "      <th>mean perimeter</th>\n",
              "      <th>mean area</th>\n",
              "      <th>mean smoothness</th>\n",
              "      <th>mean compactness</th>\n",
              "      <th>mean concavity</th>\n",
              "      <th>mean concave points</th>\n",
              "      <th>mean symmetry</th>\n",
              "      <th>mean fractal dimension</th>\n",
              "      <th>...</th>\n",
              "      <th>worst texture</th>\n",
              "      <th>worst perimeter</th>\n",
              "      <th>worst area</th>\n",
              "      <th>worst smoothness</th>\n",
              "      <th>worst compactness</th>\n",
              "      <th>worst concavity</th>\n",
              "      <th>worst concave points</th>\n",
              "      <th>worst symmetry</th>\n",
              "      <th>worst fractal dimension</th>\n",
              "      <th>y</th>\n",
              "    </tr>\n",
              "  </thead>\n",
              "  <tbody>\n",
              "    <tr>\n",
              "      <th>0</th>\n",
              "      <td>17.99</td>\n",
              "      <td>10.38</td>\n",
              "      <td>122.80</td>\n",
              "      <td>1001.0</td>\n",
              "      <td>0.11840</td>\n",
              "      <td>0.27760</td>\n",
              "      <td>0.3001</td>\n",
              "      <td>0.14710</td>\n",
              "      <td>0.2419</td>\n",
              "      <td>0.07871</td>\n",
              "      <td>...</td>\n",
              "      <td>17.33</td>\n",
              "      <td>184.60</td>\n",
              "      <td>2019.0</td>\n",
              "      <td>0.1622</td>\n",
              "      <td>0.6656</td>\n",
              "      <td>0.7119</td>\n",
              "      <td>0.2654</td>\n",
              "      <td>0.4601</td>\n",
              "      <td>0.11890</td>\n",
              "      <td>0</td>\n",
              "    </tr>\n",
              "    <tr>\n",
              "      <th>1</th>\n",
              "      <td>20.57</td>\n",
              "      <td>17.77</td>\n",
              "      <td>132.90</td>\n",
              "      <td>1326.0</td>\n",
              "      <td>0.08474</td>\n",
              "      <td>0.07864</td>\n",
              "      <td>0.0869</td>\n",
              "      <td>0.07017</td>\n",
              "      <td>0.1812</td>\n",
              "      <td>0.05667</td>\n",
              "      <td>...</td>\n",
              "      <td>23.41</td>\n",
              "      <td>158.80</td>\n",
              "      <td>1956.0</td>\n",
              "      <td>0.1238</td>\n",
              "      <td>0.1866</td>\n",
              "      <td>0.2416</td>\n",
              "      <td>0.1860</td>\n",
              "      <td>0.2750</td>\n",
              "      <td>0.08902</td>\n",
              "      <td>0</td>\n",
              "    </tr>\n",
              "    <tr>\n",
              "      <th>2</th>\n",
              "      <td>19.69</td>\n",
              "      <td>21.25</td>\n",
              "      <td>130.00</td>\n",
              "      <td>1203.0</td>\n",
              "      <td>0.10960</td>\n",
              "      <td>0.15990</td>\n",
              "      <td>0.1974</td>\n",
              "      <td>0.12790</td>\n",
              "      <td>0.2069</td>\n",
              "      <td>0.05999</td>\n",
              "      <td>...</td>\n",
              "      <td>25.53</td>\n",
              "      <td>152.50</td>\n",
              "      <td>1709.0</td>\n",
              "      <td>0.1444</td>\n",
              "      <td>0.4245</td>\n",
              "      <td>0.4504</td>\n",
              "      <td>0.2430</td>\n",
              "      <td>0.3613</td>\n",
              "      <td>0.08758</td>\n",
              "      <td>0</td>\n",
              "    </tr>\n",
              "    <tr>\n",
              "      <th>3</th>\n",
              "      <td>11.42</td>\n",
              "      <td>20.38</td>\n",
              "      <td>77.58</td>\n",
              "      <td>386.1</td>\n",
              "      <td>0.14250</td>\n",
              "      <td>0.28390</td>\n",
              "      <td>0.2414</td>\n",
              "      <td>0.10520</td>\n",
              "      <td>0.2597</td>\n",
              "      <td>0.09744</td>\n",
              "      <td>...</td>\n",
              "      <td>26.50</td>\n",
              "      <td>98.87</td>\n",
              "      <td>567.7</td>\n",
              "      <td>0.2098</td>\n",
              "      <td>0.8663</td>\n",
              "      <td>0.6869</td>\n",
              "      <td>0.2575</td>\n",
              "      <td>0.6638</td>\n",
              "      <td>0.17300</td>\n",
              "      <td>0</td>\n",
              "    </tr>\n",
              "    <tr>\n",
              "      <th>4</th>\n",
              "      <td>20.29</td>\n",
              "      <td>14.34</td>\n",
              "      <td>135.10</td>\n",
              "      <td>1297.0</td>\n",
              "      <td>0.10030</td>\n",
              "      <td>0.13280</td>\n",
              "      <td>0.1980</td>\n",
              "      <td>0.10430</td>\n",
              "      <td>0.1809</td>\n",
              "      <td>0.05883</td>\n",
              "      <td>...</td>\n",
              "      <td>16.67</td>\n",
              "      <td>152.20</td>\n",
              "      <td>1575.0</td>\n",
              "      <td>0.1374</td>\n",
              "      <td>0.2050</td>\n",
              "      <td>0.4000</td>\n",
              "      <td>0.1625</td>\n",
              "      <td>0.2364</td>\n",
              "      <td>0.07678</td>\n",
              "      <td>0</td>\n",
              "    </tr>\n",
              "  </tbody>\n",
              "</table>\n",
              "<p>5 rows × 31 columns</p>\n",
              "</div>\n",
              "      <button class=\"colab-df-convert\" onclick=\"convertToInteractive('df-d0b5b085-a518-45ce-bdab-a6705ae87f81')\"\n",
              "              title=\"Convert this dataframe to an interactive table.\"\n",
              "              style=\"display:none;\">\n",
              "        \n",
              "  <svg xmlns=\"http://www.w3.org/2000/svg\" height=\"24px\"viewBox=\"0 0 24 24\"\n",
              "       width=\"24px\">\n",
              "    <path d=\"M0 0h24v24H0V0z\" fill=\"none\"/>\n",
              "    <path d=\"M18.56 5.44l.94 2.06.94-2.06 2.06-.94-2.06-.94-.94-2.06-.94 2.06-2.06.94zm-11 1L8.5 8.5l.94-2.06 2.06-.94-2.06-.94L8.5 2.5l-.94 2.06-2.06.94zm10 10l.94 2.06.94-2.06 2.06-.94-2.06-.94-.94-2.06-.94 2.06-2.06.94z\"/><path d=\"M17.41 7.96l-1.37-1.37c-.4-.4-.92-.59-1.43-.59-.52 0-1.04.2-1.43.59L10.3 9.45l-7.72 7.72c-.78.78-.78 2.05 0 2.83L4 21.41c.39.39.9.59 1.41.59.51 0 1.02-.2 1.41-.59l7.78-7.78 2.81-2.81c.8-.78.8-2.07 0-2.86zM5.41 20L4 18.59l7.72-7.72 1.47 1.35L5.41 20z\"/>\n",
              "  </svg>\n",
              "      </button>\n",
              "      \n",
              "  <style>\n",
              "    .colab-df-container {\n",
              "      display:flex;\n",
              "      flex-wrap:wrap;\n",
              "      gap: 12px;\n",
              "    }\n",
              "\n",
              "    .colab-df-convert {\n",
              "      background-color: #E8F0FE;\n",
              "      border: none;\n",
              "      border-radius: 50%;\n",
              "      cursor: pointer;\n",
              "      display: none;\n",
              "      fill: #1967D2;\n",
              "      height: 32px;\n",
              "      padding: 0 0 0 0;\n",
              "      width: 32px;\n",
              "    }\n",
              "\n",
              "    .colab-df-convert:hover {\n",
              "      background-color: #E2EBFA;\n",
              "      box-shadow: 0px 1px 2px rgba(60, 64, 67, 0.3), 0px 1px 3px 1px rgba(60, 64, 67, 0.15);\n",
              "      fill: #174EA6;\n",
              "    }\n",
              "\n",
              "    [theme=dark] .colab-df-convert {\n",
              "      background-color: #3B4455;\n",
              "      fill: #D2E3FC;\n",
              "    }\n",
              "\n",
              "    [theme=dark] .colab-df-convert:hover {\n",
              "      background-color: #434B5C;\n",
              "      box-shadow: 0px 1px 3px 1px rgba(0, 0, 0, 0.15);\n",
              "      filter: drop-shadow(0px 1px 2px rgba(0, 0, 0, 0.3));\n",
              "      fill: #FFFFFF;\n",
              "    }\n",
              "  </style>\n",
              "\n",
              "      <script>\n",
              "        const buttonEl =\n",
              "          document.querySelector('#df-d0b5b085-a518-45ce-bdab-a6705ae87f81 button.colab-df-convert');\n",
              "        buttonEl.style.display =\n",
              "          google.colab.kernel.accessAllowed ? 'block' : 'none';\n",
              "\n",
              "        async function convertToInteractive(key) {\n",
              "          const element = document.querySelector('#df-d0b5b085-a518-45ce-bdab-a6705ae87f81');\n",
              "          const dataTable =\n",
              "            await google.colab.kernel.invokeFunction('convertToInteractive',\n",
              "                                                     [key], {});\n",
              "          if (!dataTable) return;\n",
              "\n",
              "          const docLinkHtml = 'Like what you see? Visit the ' +\n",
              "            '<a target=\"_blank\" href=https://colab.research.google.com/notebooks/data_table.ipynb>data table notebook</a>'\n",
              "            + ' to learn more about interactive tables.';\n",
              "          element.innerHTML = '';\n",
              "          dataTable['output_type'] = 'display_data';\n",
              "          await google.colab.output.renderOutput(dataTable, element);\n",
              "          const docLink = document.createElement('div');\n",
              "          docLink.innerHTML = docLinkHtml;\n",
              "          element.appendChild(docLink);\n",
              "        }\n",
              "      </script>\n",
              "    </div>\n",
              "  </div>\n",
              "  "
            ]
          },
          "metadata": {},
          "execution_count": 2
        }
      ]
    },
    {
      "cell_type": "code",
      "source": [
        "\n",
        "X,y = df.drop('y',axis=1),df.y\n",
        "\n",
        "test_size = 0.30 # taking 70:30 training and test set\n",
        "\n",
        "seed = 7  # Random number seeding for reapeatability of the code\n",
        "\n",
        "X_train, X_test, y_train, y_test = train_test_split(X, y, test_size=test_size, random_state=seed)"
      ],
      "metadata": {
        "id": "S3pmvBecOWyh"
      },
      "execution_count": 3,
      "outputs": []
    },
    {
      "cell_type": "code",
      "source": [
        "gradient_booster = GradientBoostingClassifier()"
      ],
      "metadata": {
        "id": "eNetn3rqOevV"
      },
      "execution_count": 4,
      "outputs": []
    },
    {
      "cell_type": "code",
      "source": [
        "y_pred1= gradient_booster.fit(X_train,y_train)\n"
      ],
      "metadata": {
        "id": "c8G_jQh7Oeyj"
      },
      "execution_count": 5,
      "outputs": []
    },
    {
      "cell_type": "code",
      "source": [
        "from sklearn.metrics import accuracy_score,classification_report,confusion_matrix"
      ],
      "metadata": {
        "id": "VytZrzzJOx1i"
      },
      "execution_count": 6,
      "outputs": []
    },
    {
      "cell_type": "code",
      "source": [
        "y_pred2=gradient_booster.predict(X_test)\n",
        "print(confusion_matrix(y_test,y_pred2))\n",
        "print(accuracy_score(y_test,y_pred2))\n",
        "print(classification_report(y_test,y_pred2))"
      ],
      "metadata": {
        "colab": {
          "base_uri": "https://localhost:8080/"
        },
        "id": "wiyUkysIVp0_",
        "outputId": "899852f6-e368-45a4-bb58-2f15a37f3217"
      },
      "execution_count": 7,
      "outputs": [
        {
          "output_type": "stream",
          "name": "stdout",
          "text": [
            "[[ 53   2]\n",
            " [  1 115]]\n",
            "0.9824561403508771\n",
            "              precision    recall  f1-score   support\n",
            "\n",
            "           0       0.98      0.96      0.97        55\n",
            "           1       0.98      0.99      0.99       116\n",
            "\n",
            "    accuracy                           0.98       171\n",
            "   macro avg       0.98      0.98      0.98       171\n",
            "weighted avg       0.98      0.98      0.98       171\n",
            "\n"
          ]
        }
      ]
    },
    {
      "cell_type": "markdown",
      "source": [
        "**Q3. Experiment with different hyperparameters such as learning rate, number of trees, and tree depth to\n",
        "optimise the performance of the model. Use grid search or random search to find the best\n",
        "hyperparameter**"
      ],
      "metadata": {
        "id": "IBEH7P5UMnds"
      }
    },
    {
      "cell_type": "markdown",
      "source": [
        "- Hyperparameter: Model configuration argument specified by the developer to guide the learning process for a specific dataset.\n",
        "\n",
        "\n",
        "Machine learning models also have parameters, which are the internal coefficients set by training or optimizing the model on a training dataset.\n",
        "\n",
        "Parameters are different from hyperparameters. Parameters are learned automatically; hyperparameters are set manually to help guide the learning process.\n",
        "\n",
        "- When the **learning rate**is too large, gradient descent can inadvertently increase rather than decrease the training error.  When the learning rate is too small, training is not only slower, but may become permanently stuck with a high training error.\n",
        "*Random Forest Hyperparameters*\n",
        "\n",
        "    - max_depth\n",
        "    - min_sample_split\n",
        "    - max_leaf_nodes\n",
        "    - min_samples_leaf\n",
        "    - n_estimators\n",
        "    - max_sample (bootstrap sample)\n",
        "    - max_features\n"
      ],
      "metadata": {
        "id": "PwkJjGA9WpUt"
      }
    },
    {
      "cell_type": "markdown",
      "source": [
        "- max_depth: The maximum depth of the tree - meaning the longest path between the root node and the leaf node.\n",
        "\n",
        "- min_sample_split: The minimum number of samples required to split an internal node:where the default = 2\n",
        "\n",
        "- max_leaf_nodes: This is the maximum number of leaf nodes a decision tree can have..\n",
        "\n",
        "- min_samples_leaf: This is the minimum number of samples required to be at a leaf node where the default = 1\n",
        "\n",
        "- n_estimators: This is the number of trees in the forest.\n",
        "\n",
        "- max_sample: This determines the fraction of the original dataset that is given to any individual tree.\n",
        "\n",
        "- max_features: This is the number of features to consider when looking for the best split.\n",
        "\n",
        "- bootstrap: If this is set as False, the whole dataset is used to build each tree, but it is set as Default.\n",
        "\n",
        "- criterion: The function to measure the quality of a split"
      ],
      "metadata": {
        "id": "wufq_uWShraO"
      }
    },
    {
      "cell_type": "code",
      "source": [
        "import pandas as pd\n",
        "data = pd.read_csv(\n",
        "\t\"https://raw.githubusercontent.com/lucifertrj/\"\n",
        "\t\"100DaysOfML/main/Day14%3A%20Logistic_Regression\"\n",
        "\t\"_Metric_and_practice/heart_disease.csv\")\n",
        "data.head(7)\n"
      ],
      "metadata": {
        "id": "HvK38q4LMpIf",
        "colab": {
          "base_uri": "https://localhost:8080/",
          "height": 269
        },
        "outputId": "b9f58868-faca-42d0-8714-4ae7de37dfd0"
      },
      "execution_count": 8,
      "outputs": [
        {
          "output_type": "execute_result",
          "data": {
            "text/plain": [
              "   age  sex  cp  trestbps  chol  fbs  restecg  thalach  exang  oldpeak  slope  \\\n",
              "0   63    1   3       145   233    1        0      150      0      2.3      0   \n",
              "1   37    1   2       130   250    0        1      187      0      3.5      0   \n",
              "2   41    0   1       130   204    0        0      172      0      1.4      2   \n",
              "3   56    1   1       120   236    0        1      178      0      0.8      2   \n",
              "4   57    0   0       120   354    0        1      163      1      0.6      2   \n",
              "5   57    1   0       140   192    0        1      148      0      0.4      1   \n",
              "6   56    0   1       140   294    0        0      153      0      1.3      1   \n",
              "\n",
              "   ca  thal  target  \n",
              "0   0     1       1  \n",
              "1   0     2       1  \n",
              "2   0     2       1  \n",
              "3   0     2       1  \n",
              "4   0     2       1  \n",
              "5   0     1       1  \n",
              "6   0     2       1  "
            ],
            "text/html": [
              "\n",
              "  <div id=\"df-920c6460-a0b0-4c52-b3de-d91d70866494\">\n",
              "    <div class=\"colab-df-container\">\n",
              "      <div>\n",
              "<style scoped>\n",
              "    .dataframe tbody tr th:only-of-type {\n",
              "        vertical-align: middle;\n",
              "    }\n",
              "\n",
              "    .dataframe tbody tr th {\n",
              "        vertical-align: top;\n",
              "    }\n",
              "\n",
              "    .dataframe thead th {\n",
              "        text-align: right;\n",
              "    }\n",
              "</style>\n",
              "<table border=\"1\" class=\"dataframe\">\n",
              "  <thead>\n",
              "    <tr style=\"text-align: right;\">\n",
              "      <th></th>\n",
              "      <th>age</th>\n",
              "      <th>sex</th>\n",
              "      <th>cp</th>\n",
              "      <th>trestbps</th>\n",
              "      <th>chol</th>\n",
              "      <th>fbs</th>\n",
              "      <th>restecg</th>\n",
              "      <th>thalach</th>\n",
              "      <th>exang</th>\n",
              "      <th>oldpeak</th>\n",
              "      <th>slope</th>\n",
              "      <th>ca</th>\n",
              "      <th>thal</th>\n",
              "      <th>target</th>\n",
              "    </tr>\n",
              "  </thead>\n",
              "  <tbody>\n",
              "    <tr>\n",
              "      <th>0</th>\n",
              "      <td>63</td>\n",
              "      <td>1</td>\n",
              "      <td>3</td>\n",
              "      <td>145</td>\n",
              "      <td>233</td>\n",
              "      <td>1</td>\n",
              "      <td>0</td>\n",
              "      <td>150</td>\n",
              "      <td>0</td>\n",
              "      <td>2.3</td>\n",
              "      <td>0</td>\n",
              "      <td>0</td>\n",
              "      <td>1</td>\n",
              "      <td>1</td>\n",
              "    </tr>\n",
              "    <tr>\n",
              "      <th>1</th>\n",
              "      <td>37</td>\n",
              "      <td>1</td>\n",
              "      <td>2</td>\n",
              "      <td>130</td>\n",
              "      <td>250</td>\n",
              "      <td>0</td>\n",
              "      <td>1</td>\n",
              "      <td>187</td>\n",
              "      <td>0</td>\n",
              "      <td>3.5</td>\n",
              "      <td>0</td>\n",
              "      <td>0</td>\n",
              "      <td>2</td>\n",
              "      <td>1</td>\n",
              "    </tr>\n",
              "    <tr>\n",
              "      <th>2</th>\n",
              "      <td>41</td>\n",
              "      <td>0</td>\n",
              "      <td>1</td>\n",
              "      <td>130</td>\n",
              "      <td>204</td>\n",
              "      <td>0</td>\n",
              "      <td>0</td>\n",
              "      <td>172</td>\n",
              "      <td>0</td>\n",
              "      <td>1.4</td>\n",
              "      <td>2</td>\n",
              "      <td>0</td>\n",
              "      <td>2</td>\n",
              "      <td>1</td>\n",
              "    </tr>\n",
              "    <tr>\n",
              "      <th>3</th>\n",
              "      <td>56</td>\n",
              "      <td>1</td>\n",
              "      <td>1</td>\n",
              "      <td>120</td>\n",
              "      <td>236</td>\n",
              "      <td>0</td>\n",
              "      <td>1</td>\n",
              "      <td>178</td>\n",
              "      <td>0</td>\n",
              "      <td>0.8</td>\n",
              "      <td>2</td>\n",
              "      <td>0</td>\n",
              "      <td>2</td>\n",
              "      <td>1</td>\n",
              "    </tr>\n",
              "    <tr>\n",
              "      <th>4</th>\n",
              "      <td>57</td>\n",
              "      <td>0</td>\n",
              "      <td>0</td>\n",
              "      <td>120</td>\n",
              "      <td>354</td>\n",
              "      <td>0</td>\n",
              "      <td>1</td>\n",
              "      <td>163</td>\n",
              "      <td>1</td>\n",
              "      <td>0.6</td>\n",
              "      <td>2</td>\n",
              "      <td>0</td>\n",
              "      <td>2</td>\n",
              "      <td>1</td>\n",
              "    </tr>\n",
              "    <tr>\n",
              "      <th>5</th>\n",
              "      <td>57</td>\n",
              "      <td>1</td>\n",
              "      <td>0</td>\n",
              "      <td>140</td>\n",
              "      <td>192</td>\n",
              "      <td>0</td>\n",
              "      <td>1</td>\n",
              "      <td>148</td>\n",
              "      <td>0</td>\n",
              "      <td>0.4</td>\n",
              "      <td>1</td>\n",
              "      <td>0</td>\n",
              "      <td>1</td>\n",
              "      <td>1</td>\n",
              "    </tr>\n",
              "    <tr>\n",
              "      <th>6</th>\n",
              "      <td>56</td>\n",
              "      <td>0</td>\n",
              "      <td>1</td>\n",
              "      <td>140</td>\n",
              "      <td>294</td>\n",
              "      <td>0</td>\n",
              "      <td>0</td>\n",
              "      <td>153</td>\n",
              "      <td>0</td>\n",
              "      <td>1.3</td>\n",
              "      <td>1</td>\n",
              "      <td>0</td>\n",
              "      <td>2</td>\n",
              "      <td>1</td>\n",
              "    </tr>\n",
              "  </tbody>\n",
              "</table>\n",
              "</div>\n",
              "      <button class=\"colab-df-convert\" onclick=\"convertToInteractive('df-920c6460-a0b0-4c52-b3de-d91d70866494')\"\n",
              "              title=\"Convert this dataframe to an interactive table.\"\n",
              "              style=\"display:none;\">\n",
              "        \n",
              "  <svg xmlns=\"http://www.w3.org/2000/svg\" height=\"24px\"viewBox=\"0 0 24 24\"\n",
              "       width=\"24px\">\n",
              "    <path d=\"M0 0h24v24H0V0z\" fill=\"none\"/>\n",
              "    <path d=\"M18.56 5.44l.94 2.06.94-2.06 2.06-.94-2.06-.94-.94-2.06-.94 2.06-2.06.94zm-11 1L8.5 8.5l.94-2.06 2.06-.94-2.06-.94L8.5 2.5l-.94 2.06-2.06.94zm10 10l.94 2.06.94-2.06 2.06-.94-2.06-.94-.94-2.06-.94 2.06-2.06.94z\"/><path d=\"M17.41 7.96l-1.37-1.37c-.4-.4-.92-.59-1.43-.59-.52 0-1.04.2-1.43.59L10.3 9.45l-7.72 7.72c-.78.78-.78 2.05 0 2.83L4 21.41c.39.39.9.59 1.41.59.51 0 1.02-.2 1.41-.59l7.78-7.78 2.81-2.81c.8-.78.8-2.07 0-2.86zM5.41 20L4 18.59l7.72-7.72 1.47 1.35L5.41 20z\"/>\n",
              "  </svg>\n",
              "      </button>\n",
              "      \n",
              "  <style>\n",
              "    .colab-df-container {\n",
              "      display:flex;\n",
              "      flex-wrap:wrap;\n",
              "      gap: 12px;\n",
              "    }\n",
              "\n",
              "    .colab-df-convert {\n",
              "      background-color: #E8F0FE;\n",
              "      border: none;\n",
              "      border-radius: 50%;\n",
              "      cursor: pointer;\n",
              "      display: none;\n",
              "      fill: #1967D2;\n",
              "      height: 32px;\n",
              "      padding: 0 0 0 0;\n",
              "      width: 32px;\n",
              "    }\n",
              "\n",
              "    .colab-df-convert:hover {\n",
              "      background-color: #E2EBFA;\n",
              "      box-shadow: 0px 1px 2px rgba(60, 64, 67, 0.3), 0px 1px 3px 1px rgba(60, 64, 67, 0.15);\n",
              "      fill: #174EA6;\n",
              "    }\n",
              "\n",
              "    [theme=dark] .colab-df-convert {\n",
              "      background-color: #3B4455;\n",
              "      fill: #D2E3FC;\n",
              "    }\n",
              "\n",
              "    [theme=dark] .colab-df-convert:hover {\n",
              "      background-color: #434B5C;\n",
              "      box-shadow: 0px 1px 3px 1px rgba(0, 0, 0, 0.15);\n",
              "      filter: drop-shadow(0px 1px 2px rgba(0, 0, 0, 0.3));\n",
              "      fill: #FFFFFF;\n",
              "    }\n",
              "  </style>\n",
              "\n",
              "      <script>\n",
              "        const buttonEl =\n",
              "          document.querySelector('#df-920c6460-a0b0-4c52-b3de-d91d70866494 button.colab-df-convert');\n",
              "        buttonEl.style.display =\n",
              "          google.colab.kernel.accessAllowed ? 'block' : 'none';\n",
              "\n",
              "        async function convertToInteractive(key) {\n",
              "          const element = document.querySelector('#df-920c6460-a0b0-4c52-b3de-d91d70866494');\n",
              "          const dataTable =\n",
              "            await google.colab.kernel.invokeFunction('convertToInteractive',\n",
              "                                                     [key], {});\n",
              "          if (!dataTable) return;\n",
              "\n",
              "          const docLinkHtml = 'Like what you see? Visit the ' +\n",
              "            '<a target=\"_blank\" href=https://colab.research.google.com/notebooks/data_table.ipynb>data table notebook</a>'\n",
              "            + ' to learn more about interactive tables.';\n",
              "          element.innerHTML = '';\n",
              "          dataTable['output_type'] = 'display_data';\n",
              "          await google.colab.output.renderOutput(dataTable, element);\n",
              "          const docLink = document.createElement('div');\n",
              "          docLink.innerHTML = docLinkHtml;\n",
              "          element.appendChild(docLink);\n",
              "        }\n",
              "      </script>\n",
              "    </div>\n",
              "  </div>\n",
              "  "
            ]
          },
          "metadata": {},
          "execution_count": 8
        }
      ]
    },
    {
      "cell_type": "code",
      "source": [
        "data['target'].value_counts()\n"
      ],
      "metadata": {
        "id": "CzsCMYNTMptu",
        "colab": {
          "base_uri": "https://localhost:8080/"
        },
        "outputId": "8a3b0fd3-1676-4ce1-e3db-2d34f4a392ed"
      },
      "execution_count": 9,
      "outputs": [
        {
          "output_type": "execute_result",
          "data": {
            "text/plain": [
              "1    165\n",
              "0    138\n",
              "Name: target, dtype: int64"
            ]
          },
          "metadata": {},
          "execution_count": 9
        }
      ]
    },
    {
      "cell_type": "code",
      "source": [
        "# split the data\n",
        "X = data.drop(\"target\", axis=1)\n",
        "y = data['target']\n",
        "\n",
        "X_train, X_test,\\\n",
        "\ty_train, y_test = train_test_split(X, y,\n",
        "\t\t\t\t\t\t\t\t\ttest_size=0.25,\n",
        "\t\t\t\t\t\t\t\t\trandom_state=42)\n",
        "X_train.shape, X_test.shape\n"
      ],
      "metadata": {
        "colab": {
          "base_uri": "https://localhost:8080/"
        },
        "id": "uWtWWBVmiKno",
        "outputId": "6d7a582b-d71c-40f7-9927-4182fa24f1f3"
      },
      "execution_count": 10,
      "outputs": [
        {
          "output_type": "execute_result",
          "data": {
            "text/plain": [
              "((227, 13), (76, 13))"
            ]
          },
          "metadata": {},
          "execution_count": 10
        }
      ]
    },
    {
      "cell_type": "code",
      "source": [
        "from sklearn.metrics import classification_report,accuracy_score,confusion_matrix\n",
        "from sklearn.model_selection import train_test_split\n",
        "import pandas as pd\n",
        "from sklearn.ensemble import RandomForestClassifier\n",
        "from sklearn.model_selection import GridSearchCV,\\\n",
        "RandomizedSearchCV\n"
      ],
      "metadata": {
        "id": "qhhDVZEbiKvk"
      },
      "execution_count": 11,
      "outputs": []
    },
    {
      "cell_type": "code",
      "source": [
        "# Build Random Forest Model\n",
        "model = RandomForestClassifier()\n",
        "model.fit(X_train, y_train)\n",
        "\n",
        "# predict the mode\n",
        "y_pred = model.predict(X_test)\n",
        "\n",
        "# performance evaluatio metrics\n",
        "print(\"classification_report: \",classification_report(y_pred, y_test))\n",
        "print(\"accuracy_score: \",accuracy_score(y_pred, y_test))\n",
        "print(\"confusion_matrix: \",confusion_matrix(y_pred,y_test))\n"
      ],
      "metadata": {
        "colab": {
          "base_uri": "https://localhost:8080/"
        },
        "id": "SWuulhGligA3",
        "outputId": "4ca70cb5-4890-4c82-e7d3-007aa822bfb9"
      },
      "execution_count": 12,
      "outputs": [
        {
          "output_type": "stream",
          "name": "stdout",
          "text": [
            "classification_report:                precision    recall  f1-score   support\n",
            "\n",
            "           0       0.80      0.82      0.81        34\n",
            "           1       0.85      0.83      0.84        42\n",
            "\n",
            "    accuracy                           0.83        76\n",
            "   macro avg       0.83      0.83      0.83        76\n",
            "weighted avg       0.83      0.83      0.83        76\n",
            "\n",
            "accuracy_score:  0.8289473684210527\n",
            "confusion_matrix:  [[28  6]\n",
            " [ 7 35]]\n"
          ]
        }
      ]
    },
    {
      "cell_type": "markdown",
      "source": [
        "##**Hyperparameter Tuning**"
      ],
      "metadata": {
        "id": "kc13m-yMlmt-"
      }
    },
    {
      "cell_type": "code",
      "source": [
        "param_grid = {\n",
        "\t'n_estimators': [25, 50, 100, 150],\n",
        "\t'max_features': ['sqrt', 'log2', None],\n",
        "\t'max_depth': [3, 6, 9],\n",
        "\t'max_leaf_nodes': [3, 6, 9],\n",
        "}\n"
      ],
      "metadata": {
        "id": "H_MdMYarigIc"
      },
      "execution_count": 13,
      "outputs": []
    },
    {
      "cell_type": "code",
      "source": [
        "#Hyperparameter Tuning- GridSearchCV\n",
        "grid_search = GridSearchCV(RandomForestClassifier(),\n",
        "\t\t\t\t\t\tparam_grid=param_grid)\n",
        "grid_search.fit(X_train, y_train)\n",
        "print(grid_search.best_estimator_)\n"
      ],
      "metadata": {
        "colab": {
          "base_uri": "https://localhost:8080/"
        },
        "id": "5FMHQ5zGiKzF",
        "outputId": "8024de7c-2d6e-452c-8a93-e59c20fb5871"
      },
      "execution_count": 14,
      "outputs": [
        {
          "output_type": "stream",
          "name": "stdout",
          "text": [
            "RandomForestClassifier(max_depth=3, max_leaf_nodes=9, n_estimators=25)\n"
          ]
        }
      ]
    },
    {
      "cell_type": "code",
      "source": [
        "# update the model\n",
        "model_grid = RandomForestClassifier(max_depth=9,\n",
        "\t\t\t\t\t\t\t\t\tmax_features=\"log2\",\n",
        "\t\t\t\t\t\t\t\t\tmax_leaf_nodes=3,\n",
        "\t\t\t\t\t\t\t\t\tn_estimators=25)\n",
        "model_grid.fit(X_train, y_train)\n",
        "y_pred_grid = model.predict(X_test)\n",
        "print(classification_report(y_pred_grid, y_test))\n",
        "print(\"accuracy_score \", accuracy_score(y_pred_grid,y_test))\n",
        "print(\"confusion_matrix \",confusion_matrix(y_pred_grid,y_test))\n"
      ],
      "metadata": {
        "colab": {
          "base_uri": "https://localhost:8080/"
        },
        "id": "5K5L7P40j7LV",
        "outputId": "b86eb681-2873-40d7-fc36-9dab785db265"
      },
      "execution_count": 15,
      "outputs": [
        {
          "output_type": "stream",
          "name": "stdout",
          "text": [
            "              precision    recall  f1-score   support\n",
            "\n",
            "           0       0.80      0.82      0.81        34\n",
            "           1       0.85      0.83      0.84        42\n",
            "\n",
            "    accuracy                           0.83        76\n",
            "   macro avg       0.83      0.83      0.83        76\n",
            "weighted avg       0.83      0.83      0.83        76\n",
            "\n",
            "accuracy_score  0.8289473684210527\n",
            "confusion_matrix  [[28  6]\n",
            " [ 7 35]]\n"
          ]
        }
      ]
    },
    {
      "cell_type": "code",
      "source": [
        "random_search = RandomizedSearchCV(RandomForestClassifier(),\n",
        "\t\t\t\t\t\t\t\tparam_grid)\n",
        "random_search.fit(X_train, y_train)\n",
        "print(random_search.best_estimator_)\n"
      ],
      "metadata": {
        "colab": {
          "base_uri": "https://localhost:8080/"
        },
        "id": "CjGxvet5j7ZE",
        "outputId": "624a27d3-90f5-4902-e8f6-0ba22103e925"
      },
      "execution_count": 16,
      "outputs": [
        {
          "output_type": "stream",
          "name": "stdout",
          "text": [
            "RandomForestClassifier(max_depth=6, max_leaf_nodes=9, n_estimators=50)\n"
          ]
        }
      ]
    },
    {
      "cell_type": "code",
      "source": [
        "model_random = RandomForestClassifier(max_depth=3,\n",
        "\n",
        "\t\t\t\t\t\t\t\t\tmax_leaf_nodes=9,\n",
        "\t\t\t\t\t\t\t\t\tn_estimators=150)\n",
        "model_random.fit(X_train, y_train)\n",
        "y_pred_rand = model.predict(X_test)\n",
        "print(classification_report(y_pred_rand, y_test))\n",
        "print(\"accuracy_score \", accuracy_score(y_pred_grid,y_test))\n",
        "print(\"confusion_matrix \",confusion_matrix(y_pred_grid,y_test))"
      ],
      "metadata": {
        "colab": {
          "base_uri": "https://localhost:8080/"
        },
        "id": "kiOHupdwkyqF",
        "outputId": "ddf7406c-a9e9-41da-9e2a-413bb7aee750"
      },
      "execution_count": 17,
      "outputs": [
        {
          "output_type": "stream",
          "name": "stdout",
          "text": [
            "              precision    recall  f1-score   support\n",
            "\n",
            "           0       0.80      0.82      0.81        34\n",
            "           1       0.85      0.83      0.84        42\n",
            "\n",
            "    accuracy                           0.83        76\n",
            "   macro avg       0.83      0.83      0.83        76\n",
            "weighted avg       0.83      0.83      0.83        76\n",
            "\n",
            "accuracy_score  0.8289473684210527\n",
            "confusion_matrix  [[28  6]\n",
            " [ 7 35]]\n"
          ]
        }
      ]
    },
    {
      "cell_type": "markdown",
      "source": [
        "**Q4. What is a weak learner in Gradient Boosting?**"
      ],
      "metadata": {
        "id": "I5NJHKThMp5R"
      }
    },
    {
      "cell_type": "markdown",
      "source": [
        "- Decision trees are used as the weak learner in gradient boosting.\n",
        "\n",
        "Specifically regression trees are used that output real values for splits and whose output can be added together, allowing subsequent models outputs to be added and “correct” the residuals in the predictions."
      ],
      "metadata": {
        "id": "Os9E6QmUncEQ"
      }
    },
    {
      "cell_type": "code",
      "source": [],
      "metadata": {
        "id": "RMoAmaQYMuM5"
      },
      "execution_count": 17,
      "outputs": []
    },
    {
      "cell_type": "markdown",
      "source": [
        "**Q5. What is the intuition behind the Gradient Boosting algorithm?**"
      ],
      "metadata": {
        "id": "qN4Iu1tFMuXv"
      }
    },
    {
      "cell_type": "markdown",
      "source": [
        "- Gradient boosting is a type of machine learning boosting. It relies on the intuition that the best possible next model, when combined with previous models, minimizes the overall prediction error. The key idea is to set the target outcomes for this next model in order to minimize the error."
      ],
      "metadata": {
        "id": "nygn-Hpyn3dY"
      }
    },
    {
      "cell_type": "code",
      "source": [],
      "metadata": {
        "id": "hiZnKwQcMzLN"
      },
      "execution_count": 17,
      "outputs": []
    },
    {
      "cell_type": "markdown",
      "source": [
        "**Q6. How does Gradient Boosting algorithm build an ensemble of weak learners?**"
      ],
      "metadata": {
        "id": "pOoj3myIMzWB"
      }
    },
    {
      "cell_type": "markdown",
      "source": [
        "- Boosting is a technique to combine weak learners and convert them into strong ones with the help of Machine Learning algorithms. It uses ensemble learning to boost the accuracy of a model. Ensemble learning is a technique to improve the accuracy of Machine Learning models.\n",
        "\n",
        " There are two types of ensemble learning:\n",
        " 1. Sequential Ensemble Learning: It is a boosting technique where the outputs from individual weak learners associate sequentially during the training phase. The performance of the model is boosted by assigning higher weights to the samples that are incorrectly classified. AdaBoost algorithm is an example of sequential learning .\n",
        " 2. Parallel Ensemble Learning :\n",
        "\n",
        "It is a bagging technique where the outputs from the weak learners are generated parallelly. It reduces errors by averaging the outputs from all weak learners. The random forest algorithm is an example of parallel ensemble learning.\n"
      ],
      "metadata": {
        "id": "PPO8ZfbSoJLv"
      }
    },
    {
      "cell_type": "markdown",
      "source": [
        "In Machine Learning, we use **gradient boosting** to solve classification and regression problems. It is a sequential ensemble learning technique where the performance of the model improves over iterations."
      ],
      "metadata": {
        "id": "X3tjfPyCpCo2"
      }
    },
    {
      "cell_type": "markdown",
      "source": [
        "The gradient boosting algorithm requires the below components to function:\n",
        "\n",
        "1. Loss function: To reduce errors in prediction, we need to optimize the loss function. Unlike in AdaBoost, the incorrect result is not given a higher weightage in gradient boosting. It tries to reduce the loss function by averaging the outputs from weak learners.\n",
        "\n",
        "2. Weak learner: In gradient boosting, we require weak learners to make predictions. To get real values as output, we use regression trees. To get the most suitable split point, we create trees in a greedy manner, due to this the model overfits the dataset.\n",
        "\n",
        "3. Additive model: In gradient boosting, we try to reduce the loss by adding decision trees. Also, we can minimize the error rate by cutting down the parameters. So, in this case, we design the model in such a way that the addition of a tree does not change the existing tree."
      ],
      "metadata": {
        "id": "O-5zoSBJpJQ1"
      }
    },
    {
      "cell_type": "code",
      "source": [],
      "metadata": {
        "id": "_b3QOWviM3oe"
      },
      "execution_count": 17,
      "outputs": []
    },
    {
      "cell_type": "markdown",
      "source": [
        "**Q7. What are the steps involved in constructing the mathematical intuition of Gradient Boosting\n",
        "algorithm?**"
      ],
      "metadata": {
        "id": "zl-1jYFVM3zT"
      }
    },
    {
      "cell_type": "markdown",
      "source": [
        "Gradient boosting is a highly robust technique for developing predictive models. It applies to several risk functions and optimizes the accuracy of the model’s prediction. It also resolves multicollinearity problems where the correlations among the predictor variables are high.\n",
        "\n",
        "Gradient boosting machines have been successful in various applications of Machine Learning."
      ],
      "metadata": {
        "id": "4I35S9bXpeCO"
      }
    },
    {
      "cell_type": "markdown",
      "source": [
        "Gradient Boosting Algorithm:\n",
        "- Step 1:\n",
        "\n",
        "Let’s assume X, and Y are the input and target having N samples. Our goal is to learn the function f(x) that maps the input features X to the target variables y. It is boosted trees i.e the sum of trees.\n",
        "- Step-2 :  We want to minimize the loss function L(f) with respect to f.\n",
        " calculate the pseudo residuals which are (observed value – predicted value).\n",
        " - Step 3: Steepest Descent\n",
        "\n",
        "For M stage gradient boosting, The steepest Descent finds h_m = -\\rho_m g_m  where  \\rho _m  is constant and known as step length and g_m  is the gradient of loss function L(f)\n"
      ],
      "metadata": {
        "id": "D3BgQqpbp23-"
      }
    },
    {
      "cell_type": "code",
      "source": [
        "##classification\n",
        "# Import models and utility functions\n",
        "from sklearn.ensemble import GradientBoostingClassifier\n",
        "from sklearn.model_selection import train_test_split\n",
        "from sklearn.metrics import accuracy_score\n",
        "from sklearn.datasets import load_digits\n",
        "\n",
        "# Setting SEED for reproducibility\n",
        "SEED = 23\n",
        "\n",
        "# Importing the dataset\n",
        "X, y = load_digits(return_X_y=True)\n",
        "\n",
        "# Splitting dataset\n",
        "train_X, test_X, train_y, test_y = train_test_split(X, y,\n",
        "\t\t\t\t\t\t\t\t\t\t\t\t\ttest_size = 0.25,\n",
        "\t\t\t\t\t\t\t\t\t\t\t\t\trandom_state = SEED)\n",
        "\n",
        "# Instantiate Gradient Boosting Regressor\n",
        "gbc = GradientBoostingClassifier(n_estimators=300,\n",
        "\t\t\t\t\t\t\t\tlearning_rate=0.05,\n",
        "\t\t\t\t\t\t\t\trandom_state=100,\n",
        "\t\t\t\t\t\t\t\tmax_features=5 )\n",
        "# Fit to training set\n",
        "gbc.fit(train_X, train_y)\n",
        "\n",
        "# Predict on test set\n",
        "pred_y = gbc.predict(test_X)\n",
        "\n",
        "# accuracy\n",
        "acc = accuracy_score(test_y, pred_y)\n",
        "print(\"Gradient Boosting Classifier accuracy is : {:.2f}\".format(acc))\n"
      ],
      "metadata": {
        "id": "uqEItMcRM7PI",
        "colab": {
          "base_uri": "https://localhost:8080/"
        },
        "outputId": "00040033-a498-478f-8343-1a802cc2b607"
      },
      "execution_count": 18,
      "outputs": [
        {
          "output_type": "stream",
          "name": "stdout",
          "text": [
            "Gradient Boosting Classifier accuracy is : 0.98\n"
          ]
        }
      ]
    },
    {
      "cell_type": "code",
      "source": [
        "# Example: 2 Regression\n",
        "# Import the necessary libraries\n",
        "from sklearn.ensemble import GradientBoostingRegressor\n",
        "from sklearn.model_selection import train_test_split\n",
        "from sklearn.metrics import mean_squared_error\n",
        "from sklearn.datasets import load_diabetes\n",
        "\n",
        "# Setting SEED for reproducibility\n",
        "SEED = 23\n",
        "\n",
        "# Importing the dataset\n",
        "X, y = load_diabetes(return_X_y=True)\n",
        "\n",
        "# Splitting dataset\n",
        "train_X, test_X, train_y, test_y = train_test_split(X, y,\n",
        "\t\t\t\t\t\t\t\t\t\t\t\t\ttest_size = 0.25,\n",
        "\t\t\t\t\t\t\t\t\t\t\t\t\trandom_state = SEED)\n",
        "\n",
        "# Instantiate Gradient Boosting Regressor\n",
        "gbr = GradientBoostingRegressor(loss='absolute_error',\n",
        "\t\t\t\t\t\t\t\tlearning_rate=0.1,\n",
        "\t\t\t\t\t\t\t\tn_estimators=300,\n",
        "\t\t\t\t\t\t\t\tmax_depth = 1,\n",
        "\t\t\t\t\t\t\t\trandom_state = SEED,\n",
        "\t\t\t\t\t\t\t\tmax_features = 5)\n",
        "\n",
        "# Fit to training set\n",
        "gbr.fit(train_X, train_y)\n",
        "\n",
        "# Predict on test set\n",
        "pred_y = gbr.predict(test_X)\n",
        "\n",
        "# test set RMSE\n",
        "test_rmse = mean_squared_error(test_y, pred_y) ** (1 / 2)\n",
        "\n",
        "# Print rmse\n",
        "print('Root mean Square error: {:.2f}'.format(test_rmse))\n"
      ],
      "metadata": {
        "id": "vyLz0YMzrFSO",
        "colab": {
          "base_uri": "https://localhost:8080/"
        },
        "outputId": "afe765a4-41ca-43ed-8ac2-a3d31ef5b880"
      },
      "execution_count": 19,
      "outputs": [
        {
          "output_type": "stream",
          "name": "stdout",
          "text": [
            "Root mean Square error: 56.39\n"
          ]
        }
      ]
    }
  ]
}